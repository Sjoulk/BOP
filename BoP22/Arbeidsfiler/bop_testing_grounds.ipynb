{
 "cells": [
  {
   "cell_type": "code",
   "execution_count": null,
   "metadata": {},
   "outputs": [],
   "source": [
    "import numpy as np\n",
    "\n",
    "A = np.array([[1, 1, 1], [1, 2, 3], [1, 4, 9]])\n",
    "B = np.array([6, 14, 36])\n",
    "\n",
    "\n",
    "#np.linalg.matrix_rank(A)\n",
    "X = np.linalg.solve(A, B)\n",
    "print(X)"
   ]
  },
  {
   "cell_type": "code",
   "execution_count": null,
   "metadata": {},
   "outputs": [],
   "source": []
  },
  {
   "cell_type": "code",
   "execution_count": null,
   "metadata": {},
   "outputs": [],
   "source": [
    "from numpy import array\n",
    "import numpy.polynomial.polynomial as poly\n",
    "\n",
    "P4 = array([1, -2, -1, 2])  \n",
    "Rp4 = poly.polyroots(P4)          \n",
    "print(Rp4)"
   ]
  },
  {
   "cell_type": "code",
   "execution_count": null,
   "metadata": {},
   "outputs": [],
   "source": [
    "import numpy as np\n",
    "G = np.ones(5)\n",
    "H = np.zeros(5)\n",
    "print(G, H)"
   ]
  },
  {
   "cell_type": "code",
   "execution_count": null,
   "metadata": {},
   "outputs": [],
   "source": [
    "import numpy as np\n",
    "\n",
    "a = np.array([[2, 3, 2], [3, 2, 3]])\n",
    "b = np.array([[3, 1, 3, 1], [1, 2, 1, 2], [2, 1, 2, 1]])\n",
    "a @ b\n",
    "\n"
   ]
  },
  {
   "cell_type": "code",
   "execution_count": 1,
   "metadata": {},
   "outputs": [
    {
     "data": {
      "text/plain": [
       "array([1, 4, 7])"
      ]
     },
     "execution_count": 1,
     "metadata": {},
     "output_type": "execute_result"
    }
   ],
   "source": [
    "import numpy as np\n",
    "\n",
    "tabell = np.array([ [1, 2, 3], [4, 5, 6], [7, 8, 9] ])\n",
    "tabell[:,0]"
   ]
  },
  {
   "cell_type": "code",
   "execution_count": 2,
   "metadata": {},
   "outputs": [
    {
     "data": {
      "text/plain": [
       "array([[ 1,  2,  3],\n",
       "       [ 4,  5,  6],\n",
       "       [ 7,  8,  9],\n",
       "       [11, 12, 13],\n",
       "       [14, 15, 16],\n",
       "       [17, 18, 19]])"
      ]
     },
     "execution_count": 2,
     "metadata": {},
     "output_type": "execute_result"
    }
   ],
   "source": [
    "tabell = np.array([ [1, 2, 3], [4, 5, 6], [7, 8, 9] ])\n",
    "tab2 = np.array([[11, 12, 13], [14, 15, 16], [17, 18, 19]])\n",
    "np.concatenate((tabell, tab2))\n"
   ]
  },
  {
   "cell_type": "code",
   "execution_count": 3,
   "metadata": {},
   "outputs": [
    {
     "name": "stdout",
     "output_type": "stream",
     "text": [
      "3\n",
      "2\n",
      "1\n"
     ]
    }
   ],
   "source": [
    "teller = 3\n",
    "while teller > 0:\n",
    "   print(teller)\n",
    "   teller = teller -1"
   ]
  },
  {
   "cell_type": "code",
   "execution_count": 4,
   "metadata": {},
   "outputs": [
    {
     "name": "stdout",
     "output_type": "stream",
     "text": [
      "0\n",
      "1\n",
      "2\n",
      "3\n"
     ]
    }
   ],
   "source": [
    "teller = 0\n",
    "while teller < 4:\n",
    "    print(teller)\n",
    "    teller = teller + 1"
   ]
  },
  {
   "cell_type": "code",
   "execution_count": 5,
   "metadata": {},
   "outputs": [
    {
     "name": "stdout",
     "output_type": "stream",
     "text": [
      "1\n",
      "2\n",
      "3\n",
      "4\n"
     ]
    }
   ],
   "source": [
    "teller = 0\n",
    "while teller < 4:\n",
    "    teller = teller + 1\n",
    "    print(teller)"
   ]
  },
  {
   "cell_type": "code",
   "execution_count": 6,
   "metadata": {},
   "outputs": [
    {
     "name": "stdout",
     "output_type": "stream",
     "text": [
      "1\n",
      "2\n",
      "3\n",
      "4\n",
      "5\n"
     ]
    }
   ],
   "source": [
    "\n",
    "teller = 0\n",
    "while teller <= 4:\n",
    "    teller = teller + 1\n",
    "    print(teller)"
   ]
  },
  {
   "cell_type": "code",
   "execution_count": 7,
   "metadata": {},
   "outputs": [
    {
     "name": "stdout",
     "output_type": "stream",
     "text": [
      "0\n",
      "1\n",
      "2\n",
      "3\n",
      "4\n"
     ]
    }
   ],
   "source": [
    "teller = 0\n",
    "while teller <= 4:\n",
    "    print(teller)\n",
    "    teller = teller + 1"
   ]
  },
  {
   "cell_type": "code",
   "execution_count": 8,
   "metadata": {},
   "outputs": [
    {
     "name": "stdout",
     "output_type": "stream",
     "text": [
      "16\n"
     ]
    }
   ],
   "source": [
    "sum=2\n",
    "for i in range(2, 6, 1):\n",
    "    sum=sum+i\n",
    "print(sum)\n"
   ]
  },
  {
   "cell_type": "code",
   "execution_count": 9,
   "metadata": {},
   "outputs": [
    {
     "name": "stdout",
     "output_type": "stream",
     "text": [
      "12\n"
     ]
    }
   ],
   "source": [
    "sum=0\n",
    "for i in [3, 8, 6, 5]:\n",
    "    sum=sum+3\n",
    "print(sum)"
   ]
  },
  {
   "cell_type": "code",
   "execution_count": 19,
   "metadata": {},
   "outputs": [
    {
     "name": "stdout",
     "output_type": "stream",
     "text": [
      "5.0\n"
     ]
    }
   ],
   "source": [
    "import math as m\n",
    "\n",
    "def pythag(a, b):\n",
    "    sum_of_squares = a*a + b*b\n",
    "    c = m.sqrt(sum_of_squares)\n",
    "\n",
    "    return c\n",
    "\n",
    "solution = pythag(3, 4)\n",
    "print(solution)"
   ]
  },
  {
   "cell_type": "code",
   "execution_count": 3,
   "metadata": {},
   "outputs": [
    {
     "name": "stdout",
     "output_type": "stream",
     "text": [
      "150.79644737231007\n",
      "197.92033717615698\n"
     ]
    }
   ],
   "source": [
    "import math as m\n",
    "import numpy as np\n",
    "\n",
    "def sylindervolume(radius, hoyde):\n",
    "\n",
    "\n",
    "    areal = m.pi * radius**2\n",
    "    volume = areal * hoyde\n",
    "    return volume\n",
    "\n",
    "enGangTil = 'J'\n",
    "while enGangTil == 'J':\n",
    "    radius = float(input('Radien til sylinderen:'))\n",
    "    hoyde = float(input('Høyden til sylinderen:'))\n",
    "\n",
    "    solution = sylindervolume(radius, hoyde)\n",
    "    print(solution)\n",
    "\n",
    "    igjen = input('Vil du regne ut en til (J/N): ')\n",
    "    enGangTil = igjen.upper()\n",
    "\n"
   ]
  },
  {
   "cell_type": "code",
   "execution_count": 27,
   "metadata": {},
   "outputs": [
    {
     "name": "stdout",
     "output_type": "stream",
     "text": [
      "86.0\n",
      "95.0\n",
      "104.0\n"
     ]
    }
   ],
   "source": [
    "import math as m\n",
    "import numpy as np\n",
    "\n",
    "def c2f(ctemp):\n",
    "    \n",
    "    ftemp = ctemp * 9/5 +32\n",
    "    return ftemp\n",
    "\n",
    "anotherOne = 'Y'\n",
    "while anotherOne == 'Y':\n",
    "    ctemp = float(input('Grader i Celsius:'))\n",
    "    ftemp = c2f(ctemp)\n",
    "\n",
    "    print(ftemp)\n",
    "\n",
    "    again = input('Wanna do another one? (Y/N): ')\n",
    "    anotherOne = again.upper()"
   ]
  },
  {
   "cell_type": "code",
   "execution_count": 28,
   "metadata": {},
   "outputs": [
    {
     "name": "stdout",
     "output_type": "stream",
     "text": [
      "Et rektangel med x= 4.0 cm og y= 2.0 cm har omkrets på:  12.0 cm\n"
     ]
    }
   ],
   "source": [
    "import math as m\n",
    "import numpy as np\n",
    "\n",
    "def rektangel(x, y):\n",
    "\n",
    "    omkrets = 2*x + 2*y\n",
    "    return omkrets\n",
    "\n",
    "AnotherOne = 'Y'\n",
    "while AnotherOne == 'Y':\n",
    "    x = float(input('Lengde x i cm:'))\n",
    "    y = float(input('Lengde y i cm:'))\n",
    "\n",
    "    solution = rektangel(x, y)\n",
    "    print('Et rektangel med x=', x, 'cm og y=', y,'cm har omkrets på: ', solution, 'cm')\n",
    "\n",
    "    again = input('Again? (Y/N): ')\n",
    "    AnotherOne = again.upper()\n",
    "\n"
   ]
  },
  {
   "cell_type": "code",
   "execution_count": 2,
   "metadata": {},
   "outputs": [
    {
     "name": "stdout",
     "output_type": "stream",
     "text": [
      "24.0\n"
     ]
    }
   ],
   "source": [
    "from math import sqrt\n",
    "def katet2(hyp, kat1):\n",
    "\n",
    "    kat2 = sqrt(hyp*hyp - kat1*kat1)\n",
    "    return kat2\n",
    "\n",
    "engangtil = 'J'\n",
    "while engangtil == 'J':\n",
    "    hyp = float(input('hyp:'))\n",
    "    kat1 = float(input('kat1:'))\n",
    "\n",
    "    kat2 = katet2(hyp, kat1)\n",
    "\n",
    "    print(kat2)\n",
    "    igjen = input ('j/n')\n",
    "    engangtil = igjen.upper()\n"
   ]
  },
  {
   "cell_type": "code",
   "execution_count": 5,
   "metadata": {},
   "outputs": [
    {
     "name": "stdout",
     "output_type": "stream",
     "text": [
      "-9.444444444444445\n",
      "16.11111111111111\n"
     ]
    }
   ],
   "source": [
    "import math as m\n",
    "import numpy as np\n",
    "\n",
    "def f2c(ftemp):\n",
    "    \n",
    "    ctemp = (ftemp-32) * 5/9\n",
    "    return ctemp\n",
    "\n",
    "anotherOne = 'Y'\n",
    "while anotherOne == 'Y':\n",
    "    ftemp = float(input('Grader i Farenheit:'))\n",
    "    ctemp = f2c(ftemp)\n",
    "\n",
    "    print(ctemp)\n",
    "\n",
    "    again = input('Wanna do another one? (Y/N): ')\n",
    "    anotherOne = again.upper()"
   ]
  },
  {
   "cell_type": "code",
   "execution_count": 9,
   "metadata": {},
   "outputs": [
    {
     "name": "stdout",
     "output_type": "stream",
     "text": [
      "på kartesisk form: 2.83 2.83\n"
     ]
    }
   ],
   "source": [
    "import math as m\n",
    "import numpy as np\n",
    "\n",
    "def p2k(length, angle):\n",
    "    \n",
    "    x_value = length * np.cos(angle * np.pi/180)\n",
    "    y_value = length * np.sin(angle * np.pi/180)\n",
    "\n",
    "    kartesisk = (x_value, y_value)\n",
    "    return kartesisk\n",
    "\n",
    "length = float(input('Punktets avstand fra origo: '))\n",
    "angle = float(input('Vinkel mellom x-aksen og linja fra origo til punktet (i grader):'))\n",
    "\n",
    "xogy = p2k(length, angle)\n",
    "x_koordinat = xogy[0]\n",
    "y_koordinat = xogy[1]\n",
    "\n",
    "print('på kartesisk form:', round(x_koordinat, 2), round(y_koordinat, 2))"
   ]
  },
  {
   "cell_type": "code",
   "execution_count": 19,
   "metadata": {},
   "outputs": [
    {
     "name": "stdout",
     "output_type": "stream",
     "text": [
      "på polar form er: radius = 5.0  og vinkel = 53.1301 grader\n"
     ]
    }
   ],
   "source": [
    "import math as m\n",
    "import numpy as np\n",
    "\n",
    "def k2p(x_value, y_value):\n",
    "    \n",
    "    length = m.sqrt(x_value**2 + y_value**2)\n",
    "    angle = m.degrees(m.atan2(y_value, x_value))\n",
    "\n",
    "    polar = (length, angle)\n",
    "    return polar\n",
    "\n",
    "x_value = float(input('X-koordinat: '))\n",
    "y_value = float(input('Y-koordinat:'))\n",
    "\n",
    "LogA = k2p(x_value, y_value)\n",
    "lengde = LogA[0]\n",
    "vinkel = LogA[1]\n",
    "\n",
    "print('på polar form er: radius =', round(lengde, 2), ' og vinkel =', round(vinkel, 2), 'grader')"
   ]
  },
  {
   "cell_type": "code",
   "execution_count": null,
   "metadata": {},
   "outputs": [],
   "source": []
  }
 ],
 "metadata": {
  "kernelspec": {
   "display_name": "Python 3.10.6 64-bit (windows store)",
   "language": "python",
   "name": "python3"
  },
  "language_info": {
   "codemirror_mode": {
    "name": "ipython",
    "version": 3
   },
   "file_extension": ".py",
   "mimetype": "text/x-python",
   "name": "python",
   "nbconvert_exporter": "python",
   "pygments_lexer": "ipython3",
   "version": "3.10.8"
  },
  "orig_nbformat": 4,
  "vscode": {
   "interpreter": {
    "hash": "d509ddb28f85c6f8fcdc3b060a24ee3f183aef00966166cb9fc2807577670ac2"
   }
  }
 },
 "nbformat": 4,
 "nbformat_minor": 2
}
