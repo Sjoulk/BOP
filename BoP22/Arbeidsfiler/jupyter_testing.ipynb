{
 "cells": [
  {
   "cell_type": "code",
   "execution_count": null,
   "metadata": {},
   "outputs": [],
   "source": [
    "hastighet_100 = 100/3.6  # gjør 100 km/t om til m/s\n",
    "t_0_100 = 9      # tiden blien skulle bruke på 0-100 km/t\n",
    "\n",
    "akselerasjon = hastighet_100 / t_0_100    # beregner akselerasjon\n",
    "strekning = 0.5 * akselerasjon * t_0_100**2    # beregner strekningen i meter\n",
    "\n",
    "print('En bil som akselererer fra 0-100 km/t på', t_0_100, \n",
    "      'sekund har en akselerasjon på', round(akselerasjon,2), 'm/s^2')\n",
    "print('Den har da kjørt', round(strekning),'meter')"
   ]
  },
  {
   "cell_type": "code",
   "execution_count": null,
   "metadata": {},
   "outputs": [],
   "source": [
    "import math as m\n",
    "import numpy as np\n",
    "\n",
    "np.linspace (0, 9, 7)"
   ]
  },
  {
   "cell_type": "code",
   "execution_count": null,
   "metadata": {},
   "outputs": [],
   "source": [
    "rekke1 = np.array([3, 5, 8, 21, 34])\n",
    "rekke2 = np.array([7, 9, 13, 21, 27])\n",
    "rekke3 = np.arange(1, 12, 1)\n",
    "\n",
    "np.concatenate((rekke3[0:5], np.flip(rekke3[6:-1])))\n"
   ]
  },
  {
   "cell_type": "code",
   "execution_count": null,
   "metadata": {},
   "outputs": [],
   "source": [
    "import numpy as np\n",
    "a = 5\n",
    "b = a\n",
    "array1 = np.array([3, 3, 4])\n",
    "array2 = array1\n",
    "print(array2)"
   ]
  },
  {
   "cell_type": "code",
   "execution_count": null,
   "metadata": {},
   "outputs": [],
   "source": [
    "x = np.array([2, 3, 4, 5])\n",
    "y = np.array([2, 6, 12, 15])\n",
    "y/x"
   ]
  }
 ],
 "metadata": {
  "kernelspec": {
   "display_name": "Python 3.10.6 64-bit (windows store)",
   "language": "python",
   "name": "python3"
  },
  "language_info": {
   "codemirror_mode": {
    "name": "ipython",
    "version": 3
   },
   "file_extension": ".py",
   "mimetype": "text/x-python",
   "name": "python",
   "nbconvert_exporter": "python",
   "pygments_lexer": "ipython3",
   "version": "3.10.6"
  },
  "orig_nbformat": 4,
  "vscode": {
   "interpreter": {
    "hash": "d509ddb28f85c6f8fcdc3b060a24ee3f183aef00966166cb9fc2807577670ac2"
   }
  }
 },
 "nbformat": 4,
 "nbformat_minor": 2
}
