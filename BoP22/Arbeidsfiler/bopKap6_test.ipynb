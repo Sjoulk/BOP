{
 "cells": [
  {
   "cell_type": "code",
   "execution_count": null,
   "metadata": {},
   "outputs": [],
   "source": []
  }
 ],
 "metadata": {
  "kernelspec": {
   "display_name": "Python 3.10.6 64-bit (windows store)",
   "language": "python",
   "name": "python3"
  },
  "language_info": {
   "name": "python",
   "version": "3.10.6"
  },
  "orig_nbformat": 4,
  "vscode": {
   "interpreter": {
    "hash": "d509ddb28f85c6f8fcdc3b060a24ee3f183aef00966166cb9fc2807577670ac2"
   }
  }
 },
 "nbformat": 4,
 "nbformat_minor": 2
}
